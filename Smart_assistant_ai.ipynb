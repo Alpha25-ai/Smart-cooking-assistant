{
  "cells": [
    {
      "cell_type": "markdown",
      "metadata": {
        "id": "view-in-github",
        "colab_type": "text"
      },
      "source": [
        "<a href=\"https://colab.research.google.com/github/Alpha25-ai/Smart-cooking-assistant/blob/main/Smart_assistant_ai.ipynb\" target=\"_parent\"><img src=\"https://colab.research.google.com/assets/colab-badge.svg\" alt=\"Open In Colab\"/></a>"
      ]
    },
    {
      "cell_type": "code",
      "execution_count": null,
      "metadata": {
        "colab": {
          "base_uri": "https://localhost:8080/"
        },
        "id": "p2MIDZ1--5PH",
        "outputId": "c1f68b52-c3bb-437a-e134-9b8721853126"
      },
      "outputs": [
        {
          "name": "stdout",
          "output_type": "stream",
          "text": [
            "Requirement already satisfied: pandas in /usr/local/lib/python3.11/dist-packages (2.2.2)\n",
            "Requirement already satisfied: numpy>=1.23.2 in /usr/local/lib/python3.11/dist-packages (from pandas) (2.0.2)\n",
            "Requirement already satisfied: python-dateutil>=2.8.2 in /usr/local/lib/python3.11/dist-packages (from pandas) (2.9.0.post0)\n",
            "Requirement already satisfied: pytz>=2020.1 in /usr/local/lib/python3.11/dist-packages (from pandas) (2025.2)\n",
            "Requirement already satisfied: tzdata>=2022.7 in /usr/local/lib/python3.11/dist-packages (from pandas) (2025.2)\n",
            "Requirement already satisfied: six>=1.5 in /usr/local/lib/python3.11/dist-packages (from python-dateutil>=2.8.2->pandas) (1.17.0)\n"
          ]
        }
      ],
      "source": [
        "!pip install pandas"
      ]
    },
    {
      "cell_type": "code",
      "execution_count": null,
      "metadata": {
        "id": "kyVSSMBI_Bre"
      },
      "outputs": [],
      "source": [
        "import numpy as np\n",
        "import pandas as pd"
      ]
    },
    {
      "cell_type": "code",
      "source": [
        "import pandas as pd\n",
        "\n",
        "db = pd.read_csv(\"/recipes_ingredients.csv\", on_bad_lines=\"skip\", engine=\"python\")\n"
      ],
      "metadata": {
        "id": "LvZOEsjex8bm"
      },
      "execution_count": null,
      "outputs": []
    },
    {
      "cell_type": "code",
      "source": [
        "db.info()"
      ],
      "metadata": {
        "id": "1LhSktinodtp"
      },
      "execution_count": null,
      "outputs": []
    },
    {
      "cell_type": "code",
      "source": [
        "import pandas as pd\n",
        "\n",
        "db = pd.read_csv(\"/recipes.csv\", on_bad_lines=\"skip\", engine=\"python\")\n",
        "\n",
        "def find_recipe(recipe_name):\n",
        "    result = db[db['Name'].str.lower() == recipe_name.lower()]\n",
        "    if not result.empty:\n",
        "        return result.iloc[0]['Ingredients'], result.iloc[0]['Steps']\n",
        "    else:\n",
        "        return \"Recipe not found!\", \"\"\n",
        "\n",
        "recipe = input(\"Enter recipe name: \")\n",
        "Ingredients, Steps = find_recipe(recipe)\n",
        "\n",
        "if Ingredients != \"Recipe not found!\":\n",
        "    print(\"\\nIngredients:\\n\", Ingredients)\n",
        "    print(\"\\nSteps:\\n\", Steps)\n",
        "else:\n",
        "    print(\"Recipe not found in database!\")"
      ],
      "metadata": {
        "id": "Arz53Z5jq4pq",
        "colab": {
          "base_uri": "https://localhost:8080/"
        },
        "outputId": "5f42c920-3bc5-4894-a157-a784611cf8d2"
      },
      "execution_count": null,
      "outputs": [
        {
          "output_type": "stream",
          "name": "stdout",
          "text": [
            "Enter recipe name: Sausage Meatloaf OAMC\n",
            "\n",
            "Ingredients:\n",
            " [\"ground beef\", \"ground sausage\", \"celery chopped\", \"onion\", \"saltines\", \"tomato sauce\", \"brown sugar\", \"prepared mustard\", \"Worcestershire sauce\"]\n",
            "\n",
            "Steps:\n",
            " [\"Combine ground beef, sausage, celery, onion, saltines, and eggs together and form into 2 loaves.\", \"Bake covered at 350 degress Fahrenheit in stoneware for 45 to 75  minutes(depending on the shape of your loaves and desired doneness). Drain grease.\", \"For the sauce, combine tomato sauce, brown sugar, mustard, and Worcestershire sauce.\", \"Pour sauce over loaves.\", \"Cover meatloaf and cook 15 minutes.\", \"Remove cover and cook 10 to 15 minutes.\", \"To freeze, just freeze the meat mixture in meal size portions. Thaw it in the refrigerator for a day before cooking. You could make and freeze the sauce too, but I usually mix it up when I cook the meat.\"]\n"
          ]
        }
      ]
    },
    {
      "cell_type": "code",
      "source": [
        "!pip install scikit-learn"
      ],
      "metadata": {
        "id": "Wk0F-GYb6MD0",
        "colab": {
          "base_uri": "https://localhost:8080/"
        },
        "outputId": "c78b869c-2bf9-40ed-8c12-143e2e6a62e1"
      },
      "execution_count": null,
      "outputs": [
        {
          "output_type": "stream",
          "name": "stdout",
          "text": [
            "Requirement already satisfied: scikit-learn in /usr/local/lib/python3.12/dist-packages (1.6.1)\n",
            "Requirement already satisfied: numpy>=1.19.5 in /usr/local/lib/python3.12/dist-packages (from scikit-learn) (2.0.2)\n",
            "Requirement already satisfied: scipy>=1.6.0 in /usr/local/lib/python3.12/dist-packages (from scikit-learn) (1.16.1)\n",
            "Requirement already satisfied: joblib>=1.2.0 in /usr/local/lib/python3.12/dist-packages (from scikit-learn) (1.5.1)\n",
            "Requirement already satisfied: threadpoolctl>=3.1.0 in /usr/local/lib/python3.12/dist-packages (from scikit-learn) (3.6.0)\n"
          ]
        }
      ]
    },
    {
      "cell_type": "code",
      "source": [
        "import pandas as pd\n",
        "from sklearn.feature_extraction.text import TfidfVectorizer\n",
        "from sklearn.metrics.pairwise import cosine_similarity"
      ],
      "metadata": {
        "id": "eO5NuhKQIoS3"
      },
      "execution_count": null,
      "outputs": []
    },
    {
      "cell_type": "code",
      "source": [
        "db[\"text\"] = db[\"Name\"].fillna(\"\") + \" \" + db[\"Ingredients\"].fillna(\"\") + \" \" + db[\"Steps\"].fillna(\"\")\n"
      ],
      "metadata": {
        "id": "E68zFhfpJY7q"
      },
      "execution_count": null,
      "outputs": []
    },
    {
      "cell_type": "code",
      "source": [
        "vectorizer = TfidfVectorizer(stop_words=\"english\")\n",
        "tfidf_matrix = vectorizer.fit_transform(db[\"text\"])"
      ],
      "metadata": {
        "id": "rJb1tGRjK6Z9"
      },
      "execution_count": null,
      "outputs": []
    },
    {
      "cell_type": "code",
      "source": [
        "def search_recipes(query, top_n=3):\n",
        "    query_vec = vectorizer.transform([query])   # convert user query into vector\n",
        "    similarity = cosine_similarity(query_vec, tfidf_matrix).flatten()  # compare with all recipes\n",
        "    indices = similarity.argsort()[::-1][:top_n]  # get top matches\n",
        "\n",
        "    results = []\n",
        "    for i in indices:\n",
        "        results.append({\n",
        "            \"Name\": db.iloc[i][\"Name\"],\n",
        "            \"Description\": db.iloc[i][\"Description\"],\n",
        "            \"Ingredients\": db.iloc[i][\"Ingredients\"],\n",
        "            \"Ingredients_raw\": db.iloc[i][\"Ingredients_raw\"],\n",
        "            \"Steps\": db.iloc[i][\"Steps\"],\n",
        "            \"Servings\": db.iloc[i][\"Servings\"],\n",
        "            \"Serving_size\": db.iloc[i][\"Serving_size\"],\n",
        "            \"Tags\": db.iloc[i][\"Tags\"],\n",
        "            \"score\": similarity[i]\n",
        "        })\n",
        "    return results\n"
      ],
      "metadata": {
        "id": "TEsMxUxGN35A"
      },
      "execution_count": null,
      "outputs": []
    },
    {
      "cell_type": "code",
      "source": [
        "print(\"👩‍🍳 Smart Cooking Assistant Ready! (type 'exit' to quit)\")\n",
        "\n",
        "while True:\n",
        "    query = input(\"\\nWhat do you want to cook? \")\n",
        "    if query.lower() == \"exit\":\n",
        "        break\n",
        "\n",
        "    results = search_recipes(query)\n",
        "    if results:\n",
        "        print(\"\\nTop Recipes:\")\n",
        "        for r in results:\n",
        "            print(f\"\\n🍲 {r['Name']} (score: {r['score']:.2f})\")\n",
        "            print(\"Description:\",r[\"Description\"][:200],\"...\")\n",
        "            print(\"Ingredients:\", r[\"Ingredients\"])\n",
        "            print(\"Ingredients_raw:\", r[\"Ingredients_raw\"])\n",
        "            print(\"Steps:\", r[\"Steps\"][:200], \"...\")\n",
        "            print(\"Servings\",r[\"Servings\"])\n",
        "            print(\"Serving_size\",r[\"Serving_size\"])\n",
        "            print(\"Tags\", r[\"Tags\"][:200], \"...\")\n",
        "\n",
        "    else:\n",
        "        print(\"❌ Sorry, no recipe found.\")\n"
      ],
      "metadata": {
        "colab": {
          "base_uri": "https://localhost:8080/"
        },
        "id": "EURKxjh9OFO0",
        "outputId": "59d463ec-0598-4131-d8e9-1dc7bbc5e879"
      },
      "execution_count": null,
      "outputs": [
        {
          "name": "stdout",
          "output_type": "stream",
          "text": [
            "👩‍🍳 Smart Cooking Assistant Ready! (type 'exit' to quit)\n",
            "\n",
            "What do you want to cook? burger\n",
            "\n",
            "Top Recipes:\n",
            "\n",
            "🍲 Hot, Sizzling Heat: Lost in the Sahara Burger (score: 0.63)\n",
            "Description: Inspired by the blazing heat of the desert, the Lost in the Sahara Burger is topped with creamy slices of avocado, a thick wedge of spicy jalapeno Havarti cheese and lots of zesty Bick's Sandwich Save ...\n",
            "Ingredients: [\"toasted pretzel bun\", \"cooked beef burger\", \"ketchup\", \"bick sweet green relish\", \"red onion\", \"iceberg lettuce\", \"jalapeno havarti cheese\", \"ripened avocados\", \"spicy pickles\", \"fresh tomatoes\"]\n",
            "Ingredients_raw: [\"1      toasted pretzel bun\",\"1      cooked beef burger\",\"1   teaspoon    ketchup\",\"1   teaspoon   bick\\u0027s sweet green relish\",\"1       red onion, slice \",\"1   leaf    iceberg lettuce\",\"1   slice    jalapeno havarti cheese\",\"4 -5   slices   of ripened avocados\",\"3 -5      bick\\u0027s sandwich savers hot and spicy pickles\",\"1      fresh tomatoes, slice \"]\n",
            "Steps: [\"Top the bottom half of the toasted pretzel bun with ketchup, relish, onion, lettuce and the cooked beef burger. Top the burger with cheese and remaining ingredients.\", \"Burger lovers are encouraged  ...\n",
            "Servings 1.0\n",
            "Serving_size 1 (489 g)\n",
            "Tags [\"15-minutes-or-less\", \"time-to-make\", \"course\", \"preparation\", \"occasion\", \"for-1-or-2\", \"main-dish\", \"barbecue\", \"easy\", \"summer\", \"spicy\", \"seasonal\", \"taste-mood\", \"grilling\", \"number-of-servings\" ...\n",
            "\n",
            "🍲 Spicy Mexican Bean Burger (score: 0.60)\n",
            "Description: This is an inexpensive vegetarian burger and my husband loves them. He ate one and he said they are filling, delicious and he said he wants more made when these are gone and he even said that they are ...\n",
            "Ingredients: [\"fat - free refried beans vegan\", \"small onion\", \"green pepper\", \"frozen corn\", \"carrot\", \"picante sauce salsa\", \"breadcrumbs\", \"black pepper\", \"chili powder\", \"cumin\", \"black olives\", \"hot sauce drops burger\"]\n",
            "Ingredients_raw: [\"1 (16   ounce) can   fat-free refried beans (these are always vegan)\",\"1   teaspoon    oil\",\"1/2  cup    small onion, coarsely chopped \",\"1/2      green pepper, coarsely chopped \",\"1/4-1/2  cup    frozen corn\",\"1       carrot, peeled and shredded \",\"1/8  cup    picante sauce (spicy or mild to your taste) or 1/8  cup    salsa (spicy or mild to your taste)\",\"1   cup    breadcrumbs\",\"1/2  cup    flour\",\"1   teaspoon    black pepper, to taste \",\"  salt\",\"1   dash    chili powder\",\"1   dash    cumin\",\"1/2  cup   sliced black olives\",\"  hot sauce, a few drops per burger \"]\n",
            "Steps: [\"Heat oil in skillet over medium heat.\", \"Add onions, carrots, corn and chopped green pepper.\", \"In the meantime, place beans in a large bowl.\", \"Sauté until vegetables are bright in color.\", \"Add ve ...\n",
            "Servings 6.0\n",
            "Serving_size 1 (162 g)\n",
            "Tags [\"15-minutes-or-less\", \"time-to-make\", \"course\", \"main-ingredient\", \"cuisine\", \"preparation\", \"north-american\", \"main-dish\", \"beans\", \"mexican\", \"vegan\", \"vegetarian\", \"dietary\", \"inexpensive\", \"burge ...\n",
            "\n",
            "🍲 Luscious California Burger (score: 0.59)\n",
            "Description: Full flavor and satisfying.  Each ingredient alone is delicious but together the tastes are fabulous.  You won't soon forget it.  The name says it all.This recipe comes to you from the Lucious Luggage ...\n",
            "Ingredients: [\"sirloin\", \"san francisco sourdough hamburger buns\", \"pepper bacon\", \"American cheese\", \"walla walla onions\", \"tomatoes\", \"red pepper\", \"avocado\", \"romaine lettuce\", \"jalapeno pepper\", \"mayonnaise\", \"ketchup\", \"salt pepper\"]\n",
            "Ingredients_raw: [\"1 -1 1/2  lb    ground sirloin\",\"4      san francisco sourdough hamburger buns\",\"8   slices    pepper bacon\",\"4   slices    American cheese\",\"4   slices    walla walla onions\",\"4   slices    tomatoes\",\"  roasted red pepper\",\"  avocado\",\" crispy romaine lettuce\",\"  jalapeno pepper\",\"  mustard\",\"  mayonnaise\",\"  ketchup\",\"  salt and pepper\"]\n",
            "Steps: [\"Cook bacon as desired.\", \"Separate burger into 4 patties.  Grill sirloin burger until done.\", \"When just about done place a slice of american cheese on each burger.\", \"Meanwhile, roast on the bbq sl ...\n",
            "Servings 4.0\n",
            "Serving_size 1 (188 g)\n",
            "Tags [\"30-minutes-or-less\", \"time-to-make\", \"course\", \"main-ingredient\", \"cuisine\", \"preparation\", \"north-american\", \"main-dish\", \"american\", \"easy\", \"californian\", \"meat\"] ...\n",
            "\n",
            "What do you want to cook? exit\n"
          ]
        }
      ]
    },
    {
      "cell_type": "code",
      "source": [
        "!pip install gTTS"
      ],
      "metadata": {
        "colab": {
          "base_uri": "https://localhost:8080/"
        },
        "id": "FYt-UDmsfjmc",
        "outputId": "70c08fea-4bc6-4e32-c1bf-0097c1ee9fc8"
      },
      "execution_count": null,
      "outputs": [
        {
          "output_type": "stream",
          "name": "stdout",
          "text": [
            "Collecting gTTS\n",
            "  Downloading gTTS-2.5.4-py3-none-any.whl.metadata (4.1 kB)\n",
            "Requirement already satisfied: requests<3,>=2.27 in /usr/local/lib/python3.12/dist-packages (from gTTS) (2.32.4)\n",
            "Collecting click<8.2,>=7.1 (from gTTS)\n",
            "  Downloading click-8.1.8-py3-none-any.whl.metadata (2.3 kB)\n",
            "Requirement already satisfied: charset_normalizer<4,>=2 in /usr/local/lib/python3.12/dist-packages (from requests<3,>=2.27->gTTS) (3.4.3)\n",
            "Requirement already satisfied: idna<4,>=2.5 in /usr/local/lib/python3.12/dist-packages (from requests<3,>=2.27->gTTS) (3.10)\n",
            "Requirement already satisfied: urllib3<3,>=1.21.1 in /usr/local/lib/python3.12/dist-packages (from requests<3,>=2.27->gTTS) (2.5.0)\n",
            "Requirement already satisfied: certifi>=2017.4.17 in /usr/local/lib/python3.12/dist-packages (from requests<3,>=2.27->gTTS) (2025.8.3)\n",
            "Downloading gTTS-2.5.4-py3-none-any.whl (29 kB)\n",
            "Downloading click-8.1.8-py3-none-any.whl (98 kB)\n",
            "\u001b[?25l   \u001b[90m━━━━━━━━━━━━━━━━━━━━━━━━━━━━━━━━━━━━━━━━\u001b[0m \u001b[32m0.0/98.2 kB\u001b[0m \u001b[31m?\u001b[0m eta \u001b[36m-:--:--\u001b[0m\r\u001b[2K   \u001b[90m━━━━━━━━━━━━━━━━━━━━━━━━━━━━━━━━━━━━━━━━\u001b[0m \u001b[32m98.2/98.2 kB\u001b[0m \u001b[31m4.2 MB/s\u001b[0m eta \u001b[36m0:00:00\u001b[0m\n",
            "\u001b[?25hInstalling collected packages: click, gTTS\n",
            "  Attempting uninstall: click\n",
            "    Found existing installation: click 8.2.1\n",
            "    Uninstalling click-8.2.1:\n",
            "      Successfully uninstalled click-8.2.1\n",
            "Successfully installed click-8.1.8 gTTS-2.5.4\n"
          ]
        }
      ]
    },
    {
      "cell_type": "code",
      "source": [
        "import pandas as pd\n",
        "\n",
        "db = pd.read_csv(\"/recipes_ingredients.csv\", on_bad_lines=\"skip\", engine=\"python\")\n"
      ],
      "metadata": {
        "id": "3r-Q_4fNS9sO"
      },
      "execution_count": null,
      "outputs": []
    },
    {
      "cell_type": "code",
      "source": [
        "!pip install fuzzywuzzy"
      ],
      "metadata": {
        "colab": {
          "base_uri": "https://localhost:8080/"
        },
        "id": "QJIdNXpTUbYk",
        "outputId": "17be274e-868a-477b-a885-c19976966d7c"
      },
      "execution_count": null,
      "outputs": [
        {
          "output_type": "stream",
          "name": "stdout",
          "text": [
            "Collecting fuzzywuzzy\n",
            "  Downloading fuzzywuzzy-0.18.0-py2.py3-none-any.whl.metadata (4.9 kB)\n",
            "Downloading fuzzywuzzy-0.18.0-py2.py3-none-any.whl (18 kB)\n",
            "Installing collected packages: fuzzywuzzy\n",
            "Successfully installed fuzzywuzzy-0.18.0\n"
          ]
        }
      ]
    },
    {
      "cell_type": "code",
      "source": [
        "import pandas as pd\n",
        "from fuzzywuzzy import process\n",
        "\n",
        "\n",
        "db = pd.read_csv(\"/recipes_ingredients.csv\", on_bad_lines=\"skip\", engine=\"python\")\n",
        "\n",
        "\n",
        "def find_recipe(query):\n",
        "\n",
        "    choices = db['Name'].dropna().tolist()\n",
        "    best_match, score = process.extractOne(query, choices)\n",
        "\n",
        "    if score > 60:\n",
        "        result = db[db['Name'] == best_match].iloc[0]\n",
        "        return best_match, result[\"Ingredients\"], result[\"Steps\"],result[\"Description\"],result[\"Ingredients_raw\"],result[\"Servings\"],result[\"Serving_size\"],result[\"Tags\"], score\n",
        "    else:\n",
        "        return None, None, None, None\n",
        "\n",
        "print(\"👩‍🍳 RecipeBot: Hi! Ask me about any recipe (type 'exit' to quit)\")\n",
        "\n",
        "while True:\n",
        "    query = input(\"\\nYou: \")\n",
        "    if query.lower() in [\"exit\", \"quit\", \"bye\"]:\n",
        "        print(\"👩‍🍳 RecipeBot: Goodbye! Happy cooking! 🍲\")\n",
        "        break\n",
        "\n",
        "    name, Ingredients, Steps, Description, Ingredients_raw, Servings, Serving_size, Tags, score = find_recipe(query)\n",
        "\n",
        "    if Ingredients:\n",
        "        print(f\"\\n👩‍🍳 RecipeBot: I think you meant *{name}* (match score: {score})\")\n",
        "        print(\"\\n📝 Ingredients:\\n\", Ingredients)\n",
        "        print(\"\\n👨‍🍳 Steps:\\n\", Steps[:400], \"...\")\n",
        "        print(\"Description:\",Description[:200],\"...\")\n",
        "        print(\"Ingredients_raw:\", Ingredients_raw)\n",
        "        print(\"Servings\",Servings)\n",
        "        print(\"Serving_size\",Serving_size)\n",
        "        print(\"Tags\", Tags[:200], \"...\")\n",
        "    else:\n",
        "        print(\"👩‍🍳 RecipeBot: Sorry, I couldn't find a close match. Try another one!\")\n"
      ],
      "metadata": {
        "colab": {
          "base_uri": "https://localhost:8080/"
        },
        "id": "_a-dT2ljVWk3",
        "outputId": "709f524e-7565-416d-96ee-e2917a38aa49"
      },
      "execution_count": null,
      "outputs": [
        {
          "output_type": "stream",
          "name": "stdout",
          "text": [
            "👩‍🍳 RecipeBot: Hi! Ask me about any recipe (type 'exit' to quit)\n",
            "\n",
            "You: taxcos\n",
            "\n",
            "👩‍🍳 RecipeBot: I think you meant *Tacos* (match score: 91)\n",
            "\n",
            "📝 Ingredients:\n",
            " [\"corn tortillas\", \"oil\", \"minced onion\", \"minced garlic\", \"shredded lettuce\", \"chili powder\", \"oregano\", \"cumin\", \"green peppers minced\", \"tomato\", \"shredded cheddar cheese\"]\n",
            "\n",
            "👨‍🍳 Steps:\n",
            " [\"Fry tortillas in 1/2\" hot oil, turning with tongs. Shape each into a U while hot, and set aside in a warm place. Place rest of ingredients except tomato and lettuce in saucepan. Stir and cook 5 minutes or until mixture begins to brown. Add tomatoes and cook 10 minutes longer until mixture thickens. Spoon into fried tortilla shells. Top each with finely shredded lettuce. Also good with grated mil ...\n",
            "Description: This recipe comes from Melting Pot Potluck. It was put together to announce the arrival of a new pastor and his wife. Origin: Mexico. ...\n",
            "Ingredients_raw: [\"12       corn tortillas\",\"  cooking oil\",\"1   lb    ground chuck\",\"1   tablespoon    fat\",\"2   tablespoons    instant minced onion\",\"1/4  teaspoon    instant minced garlic\",\" shredded lettuce\",\"2 1/2  teaspoons    chili powder\",\"1 1/4  teaspoons    salt\",\"1/2  teaspoon    oregano\",\"1/4  teaspoon    ground cumin\",\"2   teaspoons    green peppers, minced \",\"1   cup    canned tomato\",\" shredded cheddar cheese\"]\n",
            "Servings 6.0\n",
            "Serving_size 1 (171 g)\n",
            "Tags [\"30-minutes-or-less\", \"time-to-make\", \"course\", \"preparation\", \"main-dish\", \"easy\", \"3-steps-or-less\"] ...\n",
            "\n",
            "You: bye\n",
            "👩‍🍳 RecipeBot: Goodbye! Happy cooking! 🍲\n"
          ]
        }
      ]
    },
    {
      "cell_type": "code",
      "source": [
        "!pip install gradio"
      ],
      "metadata": {
        "colab": {
          "base_uri": "https://localhost:8080/"
        },
        "id": "eJQvIRIwbtmO",
        "outputId": "8e722ce3-3f3d-469f-a337-777d338f2c7d"
      },
      "execution_count": null,
      "outputs": [
        {
          "output_type": "stream",
          "name": "stdout",
          "text": [
            "Collecting gradio\n",
            "  Downloading gradio-5.44.0-py3-none-any.whl.metadata (16 kB)\n",
            "Requirement already satisfied: aiofiles<25.0,>=22.0 in /usr/local/lib/python3.12/dist-packages (from gradio) (24.1.0)\n",
            "Requirement already satisfied: anyio<5.0,>=3.0 in /usr/local/lib/python3.12/dist-packages (from gradio) (4.10.0)\n",
            "Collecting brotli>=1.1.0 (from gradio)\n",
            "  Downloading Brotli-1.1.0-cp312-cp312-manylinux_2_17_x86_64.manylinux2014_x86_64.whl.metadata (5.5 kB)\n",
            "Collecting fastapi<1.0,>=0.115.2 (from gradio)\n",
            "  Downloading fastapi-0.116.1-py3-none-any.whl.metadata (28 kB)\n",
            "Collecting ffmpy (from gradio)\n",
            "  Downloading ffmpy-0.6.1-py3-none-any.whl.metadata (2.9 kB)\n",
            "Collecting gradio-client==1.12.1 (from gradio)\n",
            "  Downloading gradio_client-1.12.1-py3-none-any.whl.metadata (7.1 kB)\n",
            "Collecting groovy~=0.1 (from gradio)\n",
            "  Downloading groovy-0.1.2-py3-none-any.whl.metadata (6.1 kB)\n",
            "Requirement already satisfied: httpx<1.0,>=0.24.1 in /usr/local/lib/python3.12/dist-packages (from gradio) (0.28.1)\n",
            "Requirement already satisfied: huggingface-hub<1.0,>=0.33.5 in /usr/local/lib/python3.12/dist-packages (from gradio) (0.34.4)\n",
            "Requirement already satisfied: jinja2<4.0 in /usr/local/lib/python3.12/dist-packages (from gradio) (3.1.6)\n",
            "Requirement already satisfied: markupsafe<4.0,>=2.0 in /usr/local/lib/python3.12/dist-packages (from gradio) (3.0.2)\n",
            "Requirement already satisfied: numpy<3.0,>=1.0 in /usr/local/lib/python3.12/dist-packages (from gradio) (2.0.2)\n",
            "Collecting orjson~=3.0 (from gradio)\n",
            "  Downloading orjson-3.11.3-cp312-cp312-manylinux_2_17_x86_64.manylinux2014_x86_64.whl.metadata (41 kB)\n",
            "\u001b[2K     \u001b[90m━━━━━━━━━━━━━━━━━━━━━━━━━━━━━━━━━━━━━━━━\u001b[0m \u001b[32m41.9/41.9 kB\u001b[0m \u001b[31m2.4 MB/s\u001b[0m eta \u001b[36m0:00:00\u001b[0m\n",
            "\u001b[?25hRequirement already satisfied: packaging in /usr/local/lib/python3.12/dist-packages (from gradio) (25.0)\n",
            "Requirement already satisfied: pandas<3.0,>=1.0 in /usr/local/lib/python3.12/dist-packages (from gradio) (2.2.2)\n",
            "Requirement already satisfied: pillow<12.0,>=8.0 in /usr/local/lib/python3.12/dist-packages (from gradio) (11.3.0)\n",
            "Requirement already satisfied: pydantic<2.12,>=2.0 in /usr/local/lib/python3.12/dist-packages (from gradio) (2.11.7)\n",
            "Collecting pydub (from gradio)\n",
            "  Downloading pydub-0.25.1-py2.py3-none-any.whl.metadata (1.4 kB)\n",
            "Collecting python-multipart>=0.0.18 (from gradio)\n",
            "  Downloading python_multipart-0.0.20-py3-none-any.whl.metadata (1.8 kB)\n",
            "Requirement already satisfied: pyyaml<7.0,>=5.0 in /usr/local/lib/python3.12/dist-packages (from gradio) (6.0.2)\n",
            "Collecting ruff>=0.9.3 (from gradio)\n",
            "  Downloading ruff-0.12.10-py3-none-manylinux_2_17_x86_64.manylinux2014_x86_64.whl.metadata (25 kB)\n",
            "Collecting safehttpx<0.2.0,>=0.1.6 (from gradio)\n",
            "  Downloading safehttpx-0.1.6-py3-none-any.whl.metadata (4.2 kB)\n",
            "Collecting semantic-version~=2.0 (from gradio)\n",
            "  Downloading semantic_version-2.10.0-py2.py3-none-any.whl.metadata (9.7 kB)\n",
            "Collecting starlette<1.0,>=0.40.0 (from gradio)\n",
            "  Downloading starlette-0.47.3-py3-none-any.whl.metadata (6.2 kB)\n",
            "Collecting tomlkit<0.14.0,>=0.12.0 (from gradio)\n",
            "  Downloading tomlkit-0.13.3-py3-none-any.whl.metadata (2.8 kB)\n",
            "Requirement already satisfied: typer<1.0,>=0.12 in /usr/local/lib/python3.12/dist-packages (from gradio) (0.16.0)\n",
            "Requirement already satisfied: typing-extensions~=4.0 in /usr/local/lib/python3.12/dist-packages (from gradio) (4.14.1)\n",
            "Collecting uvicorn>=0.14.0 (from gradio)\n",
            "  Downloading uvicorn-0.35.0-py3-none-any.whl.metadata (6.5 kB)\n",
            "Requirement already satisfied: fsspec in /usr/local/lib/python3.12/dist-packages (from gradio-client==1.12.1->gradio) (2025.7.0)\n",
            "Requirement already satisfied: websockets<16.0,>=10.0 in /usr/local/lib/python3.12/dist-packages (from gradio-client==1.12.1->gradio) (15.0.1)\n",
            "Requirement already satisfied: idna>=2.8 in /usr/local/lib/python3.12/dist-packages (from anyio<5.0,>=3.0->gradio) (3.10)\n",
            "Requirement already satisfied: sniffio>=1.1 in /usr/local/lib/python3.12/dist-packages (from anyio<5.0,>=3.0->gradio) (1.3.1)\n",
            "Requirement already satisfied: certifi in /usr/local/lib/python3.12/dist-packages (from httpx<1.0,>=0.24.1->gradio) (2025.8.3)\n",
            "Requirement already satisfied: httpcore==1.* in /usr/local/lib/python3.12/dist-packages (from httpx<1.0,>=0.24.1->gradio) (1.0.9)\n",
            "Requirement already satisfied: h11>=0.16 in /usr/local/lib/python3.12/dist-packages (from httpcore==1.*->httpx<1.0,>=0.24.1->gradio) (0.16.0)\n",
            "Requirement already satisfied: filelock in /usr/local/lib/python3.12/dist-packages (from huggingface-hub<1.0,>=0.33.5->gradio) (3.19.1)\n",
            "Requirement already satisfied: requests in /usr/local/lib/python3.12/dist-packages (from huggingface-hub<1.0,>=0.33.5->gradio) (2.32.4)\n",
            "Requirement already satisfied: tqdm>=4.42.1 in /usr/local/lib/python3.12/dist-packages (from huggingface-hub<1.0,>=0.33.5->gradio) (4.67.1)\n",
            "Requirement already satisfied: hf-xet<2.0.0,>=1.1.3 in /usr/local/lib/python3.12/dist-packages (from huggingface-hub<1.0,>=0.33.5->gradio) (1.1.7)\n",
            "Requirement already satisfied: python-dateutil>=2.8.2 in /usr/local/lib/python3.12/dist-packages (from pandas<3.0,>=1.0->gradio) (2.9.0.post0)\n",
            "Requirement already satisfied: pytz>=2020.1 in /usr/local/lib/python3.12/dist-packages (from pandas<3.0,>=1.0->gradio) (2025.2)\n",
            "Requirement already satisfied: tzdata>=2022.7 in /usr/local/lib/python3.12/dist-packages (from pandas<3.0,>=1.0->gradio) (2025.2)\n",
            "Requirement already satisfied: annotated-types>=0.6.0 in /usr/local/lib/python3.12/dist-packages (from pydantic<2.12,>=2.0->gradio) (0.7.0)\n",
            "Requirement already satisfied: pydantic-core==2.33.2 in /usr/local/lib/python3.12/dist-packages (from pydantic<2.12,>=2.0->gradio) (2.33.2)\n",
            "Requirement already satisfied: typing-inspection>=0.4.0 in /usr/local/lib/python3.12/dist-packages (from pydantic<2.12,>=2.0->gradio) (0.4.1)\n",
            "Requirement already satisfied: click>=8.0.0 in /usr/local/lib/python3.12/dist-packages (from typer<1.0,>=0.12->gradio) (8.2.1)\n",
            "Requirement already satisfied: shellingham>=1.3.0 in /usr/local/lib/python3.12/dist-packages (from typer<1.0,>=0.12->gradio) (1.5.4)\n",
            "Requirement already satisfied: rich>=10.11.0 in /usr/local/lib/python3.12/dist-packages (from typer<1.0,>=0.12->gradio) (14.1.0)\n",
            "Requirement already satisfied: six>=1.5 in /usr/local/lib/python3.12/dist-packages (from python-dateutil>=2.8.2->pandas<3.0,>=1.0->gradio) (1.17.0)\n",
            "Requirement already satisfied: markdown-it-py>=2.2.0 in /usr/local/lib/python3.12/dist-packages (from rich>=10.11.0->typer<1.0,>=0.12->gradio) (4.0.0)\n",
            "Requirement already satisfied: pygments<3.0.0,>=2.13.0 in /usr/local/lib/python3.12/dist-packages (from rich>=10.11.0->typer<1.0,>=0.12->gradio) (2.19.2)\n",
            "Requirement already satisfied: charset_normalizer<4,>=2 in /usr/local/lib/python3.12/dist-packages (from requests->huggingface-hub<1.0,>=0.33.5->gradio) (3.4.3)\n",
            "Requirement already satisfied: urllib3<3,>=1.21.1 in /usr/local/lib/python3.12/dist-packages (from requests->huggingface-hub<1.0,>=0.33.5->gradio) (2.5.0)\n",
            "Requirement already satisfied: mdurl~=0.1 in /usr/local/lib/python3.12/dist-packages (from markdown-it-py>=2.2.0->rich>=10.11.0->typer<1.0,>=0.12->gradio) (0.1.2)\n",
            "Downloading gradio-5.44.0-py3-none-any.whl (60.1 MB)\n",
            "\u001b[2K   \u001b[90m━━━━━━━━━━━━━━━━━━━━━━━━━━━━━━━━━━━━━━━━\u001b[0m \u001b[32m60.1/60.1 MB\u001b[0m \u001b[31m20.4 MB/s\u001b[0m eta \u001b[36m0:00:00\u001b[0m\n",
            "\u001b[?25hDownloading gradio_client-1.12.1-py3-none-any.whl (324 kB)\n",
            "\u001b[2K   \u001b[90m━━━━━━━━━━━━━━━━━━━━━━━━━━━━━━━━━━━━━━━━\u001b[0m \u001b[32m324.6/324.6 kB\u001b[0m \u001b[31m21.5 MB/s\u001b[0m eta \u001b[36m0:00:00\u001b[0m\n",
            "\u001b[?25hDownloading Brotli-1.1.0-cp312-cp312-manylinux_2_17_x86_64.manylinux2014_x86_64.whl (2.9 MB)\n",
            "\u001b[2K   \u001b[90m━━━━━━━━━━━━━━━━━━━━━━━━━━━━━━━━━━━━━━━━\u001b[0m \u001b[32m2.9/2.9 MB\u001b[0m \u001b[31m40.1 MB/s\u001b[0m eta \u001b[36m0:00:00\u001b[0m\n",
            "\u001b[?25hDownloading fastapi-0.116.1-py3-none-any.whl (95 kB)\n",
            "\u001b[2K   \u001b[90m━━━━━━━━━━━━━━━━━━━━━━━━━━━━━━━━━━━━━━━━\u001b[0m \u001b[32m95.6/95.6 kB\u001b[0m \u001b[31m6.7 MB/s\u001b[0m eta \u001b[36m0:00:00\u001b[0m\n",
            "\u001b[?25hDownloading groovy-0.1.2-py3-none-any.whl (14 kB)\n",
            "Downloading orjson-3.11.3-cp312-cp312-manylinux_2_17_x86_64.manylinux2014_x86_64.whl (132 kB)\n",
            "\u001b[2K   \u001b[90m━━━━━━━━━━━━━━━━━━━━━━━━━━━━━━━━━━━━━━━━\u001b[0m \u001b[32m132.9/132.9 kB\u001b[0m \u001b[31m12.4 MB/s\u001b[0m eta \u001b[36m0:00:00\u001b[0m\n",
            "\u001b[?25hDownloading python_multipart-0.0.20-py3-none-any.whl (24 kB)\n",
            "Downloading ruff-0.12.10-py3-none-manylinux_2_17_x86_64.manylinux2014_x86_64.whl (13.1 MB)\n",
            "\u001b[2K   \u001b[90m━━━━━━━━━━━━━━━━━━━━━━━━━━━━━━━━━━━━━━━━\u001b[0m \u001b[32m13.1/13.1 MB\u001b[0m \u001b[31m119.4 MB/s\u001b[0m eta \u001b[36m0:00:00\u001b[0m\n",
            "\u001b[?25hDownloading safehttpx-0.1.6-py3-none-any.whl (8.7 kB)\n",
            "Downloading semantic_version-2.10.0-py2.py3-none-any.whl (15 kB)\n",
            "Downloading starlette-0.47.3-py3-none-any.whl (72 kB)\n",
            "\u001b[2K   \u001b[90m━━━━━━━━━━━━━━━━━━━━━━━━━━━━━━━━━━━━━━━━\u001b[0m \u001b[32m73.0/73.0 kB\u001b[0m \u001b[31m5.2 MB/s\u001b[0m eta \u001b[36m0:00:00\u001b[0m\n",
            "\u001b[?25hDownloading tomlkit-0.13.3-py3-none-any.whl (38 kB)\n",
            "Downloading uvicorn-0.35.0-py3-none-any.whl (66 kB)\n",
            "\u001b[2K   \u001b[90m━━━━━━━━━━━━━━━━━━━━━━━━━━━━━━━━━━━━━━━━\u001b[0m \u001b[32m66.4/66.4 kB\u001b[0m \u001b[31m4.6 MB/s\u001b[0m eta \u001b[36m0:00:00\u001b[0m\n",
            "\u001b[?25hDownloading ffmpy-0.6.1-py3-none-any.whl (5.5 kB)\n",
            "Downloading pydub-0.25.1-py2.py3-none-any.whl (32 kB)\n",
            "Installing collected packages: pydub, brotli, uvicorn, tomlkit, semantic-version, ruff, python-multipart, orjson, groovy, ffmpy, starlette, safehttpx, gradio-client, fastapi, gradio\n",
            "Successfully installed brotli-1.1.0 fastapi-0.116.1 ffmpy-0.6.1 gradio-5.44.0 gradio-client-1.12.1 groovy-0.1.2 orjson-3.11.3 pydub-0.25.1 python-multipart-0.0.20 ruff-0.12.10 safehttpx-0.1.6 semantic-version-2.10.0 starlette-0.47.3 tomlkit-0.13.3 uvicorn-0.35.0\n"
          ]
        }
      ]
    },
    {
      "cell_type": "code",
      "source": [
        "import pandas as pd\n",
        "import gradio as gr\n",
        "\n",
        "db = pd.read_csv(\"/recipes_ingredients.csv\", on_bad_lines=\"skip\", engine=\"python\")\n",
        "\n",
        "def find_by_ingredient(query):\n",
        "    results = []\n",
        "    for i, row in db.iterrows():\n",
        "        if pd.isna(row[\"Ingredients\"]):\n",
        "            continue\n",
        "        if query.lower() in row[\"Ingredients\"].lower():\n",
        "            results.append({\n",
        "                \"Name\": row[\"Name\"],\n",
        "                \"Ingredients\": row[\"Ingredients\"],\n",
        "                \"Steps\": row[\"Steps\"]\n",
        "            })\n",
        "    return results\n",
        "\n",
        "print(\"👩‍🍳 RecipeBot: Hi! Ask me 'What can I make with <ingredient>?' (type 'exit' to quit)\")\n",
        "\n",
        "while True:\n",
        "    query = input(\"\\nYou: \")\n",
        "    if query.lower() in [\"exit\", \"quit\", \"bye\"]:\n",
        "        print(\"👩‍🍳 RecipeBot: Goodbye! Happy cooking! 🍲\")\n",
        "        break\n",
        "\n",
        "    words = query.lower().split()\n",
        "    if \"with\" in words:\n",
        "        ingredient = words[words.index(\"with\") + 1]\n",
        "    else:\n",
        "        ingredient = query.strip()\n",
        "\n",
        "    results = find_by_ingredient(ingredient)\n",
        "\n",
        "    if results:\n",
        "        print(f\"\\n👩‍🍳 RecipeBot: Here are some recipes with *{ingredient}*:\\n\")\n",
        "        for r in results[:3]:  # show top 3 matches\n",
        "            print(f\"🍲 {r['Name']}\")\n",
        "            print(f\"📝 Ingredients: {r['Ingredients']}\")\n",
        "            print(f\"👩‍🍳 Steps: {r['Steps'][:250]}...\")  # first 250 chars\n",
        "            print(\"-\" * 50)\n",
        "    else:\n",
        "        print(\"👩‍🍳 RecipeBot: Sorry, I couldn't find recipes with that ingredient.\")\n"
      ],
      "metadata": {
        "colab": {
          "base_uri": "https://localhost:8080/"
        },
        "id": "w_hZrFyKZw_c",
        "outputId": "1b166608-e7fa-4afe-d1c3-5412d4584931"
      },
      "execution_count": null,
      "outputs": [
        {
          "output_type": "stream",
          "name": "stdout",
          "text": [
            "👩‍🍳 RecipeBot: Hi! Ask me 'What can I make with <ingredient>?' (type 'exit' to quit)\n",
            "\n",
            "You: exit\n",
            "👩‍🍳 RecipeBot: Goodbye! Happy cooking! 🍲\n"
          ]
        }
      ]
    },
    {
      "cell_type": "code",
      "source": [
        "import gradio as gr\n",
        "import pandas as pd\n",
        "\n",
        "db = pd.read_csv(\"/recipes_ingredients.csv\")\n",
        "\n",
        "def chatbot(message):\n",
        "    try:\n",
        "\n",
        "        msg = str(message).lower()\n",
        "\n",
        "        results = db[db[\"Ingredients\"].astype(str).str.lower().str.contains(msg, na=False)]\n",
        "\n",
        "        if not results.empty:\n",
        "            first_recipe = results.iloc[0]\n",
        "            reply = f\"🍲 You can try making **{first_recipe['Name']}**!\\n\\n\"\n",
        "            reply += f\"📝 **Ingredients:**\\n{first_recipe['Ingredients']}\\n\\n\"\n",
        "            reply += f\"👩‍🍳 **Steps:**\\n{first_recipe['Steps']}\"\n",
        "            return reply\n",
        "        else:\n",
        "            return f\"⚠️ Sorry, I couldn't find any recipes with '{message}'. Try another ingredient!\"\n",
        "\n",
        "    except Exception as e:\n",
        "        return f\"⚠️ Internal Error: {str(e)}\"\n",
        "\n",
        "demo = gr.Interface(\n",
        "    fn=chatbot,\n",
        "    inputs=\"text\",\n",
        "    outputs=\"text\",\n",
        "    title=\"🍳 Recipe Chatbot\",\n",
        "    description=\"Ask me what you can cook with any ingredient!\"\n",
        ")\n",
        "\n",
        "demo.launch()\n"
      ],
      "metadata": {
        "colab": {
          "base_uri": "https://localhost:8080/",
          "height": 646
        },
        "id": "CEjYfjugav-d",
        "outputId": "83ac573e-426f-4403-eb96-cde29e363717"
      },
      "execution_count": null,
      "outputs": [
        {
          "output_type": "stream",
          "name": "stdout",
          "text": [
            "It looks like you are running Gradio on a hosted Jupyter notebook, which requires `share=True`. Automatically setting `share=True` (you can turn this off by setting `share=False` in `launch()` explicitly).\n",
            "\n",
            "Colab notebook detected. To show errors in colab notebook, set debug=True in launch()\n",
            "* Running on public URL: https://88d4e9986c06ad3538.gradio.live\n",
            "\n",
            "This share link expires in 1 week. For free permanent hosting and GPU upgrades, run `gradio deploy` from the terminal in the working directory to deploy to Hugging Face Spaces (https://huggingface.co/spaces)\n"
          ]
        },
        {
          "output_type": "display_data",
          "data": {
            "text/plain": [
              "<IPython.core.display.HTML object>"
            ],
            "text/html": [
              "<div><iframe src=\"https://88d4e9986c06ad3538.gradio.live\" width=\"100%\" height=\"500\" allow=\"autoplay; camera; microphone; clipboard-read; clipboard-write;\" frameborder=\"0\" allowfullscreen></iframe></div>"
            ]
          },
          "metadata": {}
        },
        {
          "output_type": "execute_result",
          "data": {
            "text/plain": []
          },
          "metadata": {},
          "execution_count": 11
        }
      ]
    },
    {
      "cell_type": "code",
      "source": [
        "print (db.columns)"
      ],
      "metadata": {
        "id": "2-jCbxRucCzf",
        "colab": {
          "base_uri": "https://localhost:8080/"
        },
        "outputId": "f7b105ad-6b03-4f97-d5f4-cc0f82ce3d75"
      },
      "execution_count": null,
      "outputs": [
        {
          "output_type": "stream",
          "name": "stdout",
          "text": [
            "Index(['ID', 'Name', 'Description', 'Ingredients', 'Ingredients_raw', 'Steps',\n",
            "       'Servings', 'Serving_size', 'Tags'],\n",
            "      dtype='object')\n"
          ]
        }
      ]
    },
    {
      "cell_type": "code",
      "source": [
        "import gradio as gr\n",
        "import pandas as pd\n",
        "import re\n",
        "\n",
        "db = pd.read_csv(\"/recipes_ingredients.csv\")\n",
        "\n",
        "def chatbot(message):\n",
        "    try:\n",
        "        msg = str(message).lower()\n",
        "\n",
        "        words = re.findall(r\"\\b\\w+\\b\", msg)\n",
        "        ingredients = [w for w in words if len(w) > 3]\n",
        "\n",
        "        if not ingredients:\n",
        "            return \"🤔 Please mention at least one ingredient.\"\n",
        "\n",
        "        mask = db[\"Ingredients\"].astype(str).str.lower()\n",
        "        matched = db[mask.apply(lambda x: any(ing in x for ing in ingredients))]\n",
        "\n",
        "        if not matched.empty:\n",
        "            first_recipe = matched.iloc[0]\n",
        "            reply = f\"🍲 You can make **{first_recipe['Name']}**!\\n\\n\"\n",
        "            reply += f\"📝 **Ingredients:**\\n{first_recipe['Ingredients']}\\n\\n\"\n",
        "            reply += f\"👩‍🍳 **Steps:**\\n{first_recipe['Steps']}\"\n",
        "            return reply\n",
        "        else:\n",
        "            return f\"⚠️ Sorry, I couldn't find any recipe with {', '.join(ingredients)}.\"\n",
        "\n",
        "    except Exception as e:\n",
        "        return f\"⚠️ Internal Error: {str(e)}\"\n",
        "\n",
        "demo = gr.Interface(\n",
        "    fn=chatbot,\n",
        "    inputs=\"text\",\n",
        "    outputs=\"text\",\n",
        "    title=\"🍳 Recipe Chatbot\",\n",
        "    description=\"Ask me naturally like: 'What can I make with paneer?'\"\n",
        ")\n",
        "\n",
        "demo.launch()\n"
      ],
      "metadata": {
        "colab": {
          "base_uri": "https://localhost:8080/",
          "height": 646
        },
        "id": "iZxC_4aNCIhQ",
        "outputId": "242da276-017f-4c44-a285-022fe24277d3"
      },
      "execution_count": null,
      "outputs": [
        {
          "output_type": "stream",
          "name": "stdout",
          "text": [
            "It looks like you are running Gradio on a hosted Jupyter notebook, which requires `share=True`. Automatically setting `share=True` (you can turn this off by setting `share=False` in `launch()` explicitly).\n",
            "\n",
            "Colab notebook detected. To show errors in colab notebook, set debug=True in launch()\n",
            "* Running on public URL: https://06642221b1a5847841.gradio.live\n",
            "\n",
            "This share link expires in 1 week. For free permanent hosting and GPU upgrades, run `gradio deploy` from the terminal in the working directory to deploy to Hugging Face Spaces (https://huggingface.co/spaces)\n"
          ]
        },
        {
          "output_type": "display_data",
          "data": {
            "text/plain": [
              "<IPython.core.display.HTML object>"
            ],
            "text/html": [
              "<div><iframe src=\"https://06642221b1a5847841.gradio.live\" width=\"100%\" height=\"500\" allow=\"autoplay; camera; microphone; clipboard-read; clipboard-write;\" frameborder=\"0\" allowfullscreen></iframe></div>"
            ]
          },
          "metadata": {}
        },
        {
          "output_type": "execute_result",
          "data": {
            "text/plain": []
          },
          "metadata": {},
          "execution_count": 13
        }
      ]
    },
    {
      "cell_type": "code",
      "source": [],
      "metadata": {
        "id": "Hra2lHcFJj-n"
      },
      "execution_count": null,
      "outputs": []
    }
  ],
  "metadata": {
    "colab": {
      "provenance": [],
      "gpuType": "V28",
      "authorship_tag": "ABX9TyOgPo6ZTUum+XcDVyU8a21F",
      "include_colab_link": true
    },
    "kernelspec": {
      "display_name": "Python 3",
      "name": "python3"
    },
    "language_info": {
      "name": "python"
    },
    "accelerator": "TPU"
  },
  "nbformat": 4,
  "nbformat_minor": 0
}