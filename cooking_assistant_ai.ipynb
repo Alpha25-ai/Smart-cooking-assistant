{
  "nbformat": 4,
  "nbformat_minor": 0,
  "metadata": {
    "colab": {
      "provenance": [],
      "authorship_tag": "ABX9TyPcNdEomKQKjknnBK6clbZJ",
      "include_colab_link": true
    },
    "kernelspec": {
      "name": "python3",
      "display_name": "Python 3"
    },
    "language_info": {
      "name": "python"
    }
  },
  "cells": [
    {
      "cell_type": "markdown",
      "metadata": {
        "id": "view-in-github",
        "colab_type": "text"
      },
      "source": [
        "<a href=\"https://colab.research.google.com/github/Alpha25-ai/Smart-cooking-assistant/blob/main/cooking_assistant_ai.ipynb\" target=\"_parent\"><img src=\"https://colab.research.google.com/assets/colab-badge.svg\" alt=\"Open In Colab\"/></a>"
      ]
    },
    {
      "cell_type": "code",
      "execution_count": null,
      "metadata": {
        "colab": {
          "base_uri": "https://localhost:8080/"
        },
        "id": "1ODeknTQbw7J",
        "outputId": "bd041518-4b2f-4747-8cbd-2da4049363ba"
      },
      "outputs": [
        {
          "output_type": "stream",
          "name": "stdout",
          "text": [
            "Requirement already satisfied: pandas in /usr/local/lib/python3.12/dist-packages (2.2.2)\n",
            "Requirement already satisfied: numpy>=1.26.0 in /usr/local/lib/python3.12/dist-packages (from pandas) (2.0.2)\n",
            "Requirement already satisfied: python-dateutil>=2.8.2 in /usr/local/lib/python3.12/dist-packages (from pandas) (2.9.0.post0)\n",
            "Requirement already satisfied: pytz>=2020.1 in /usr/local/lib/python3.12/dist-packages (from pandas) (2025.2)\n",
            "Requirement already satisfied: tzdata>=2022.7 in /usr/local/lib/python3.12/dist-packages (from pandas) (2025.2)\n",
            "Requirement already satisfied: six>=1.5 in /usr/local/lib/python3.12/dist-packages (from python-dateutil>=2.8.2->pandas) (1.17.0)\n"
          ]
        }
      ],
      "source": [
        "!pip install pandas"
      ]
    },
    {
      "cell_type": "code",
      "source": [
        "!pip install scikit-learn"
      ],
      "metadata": {
        "colab": {
          "base_uri": "https://localhost:8080/"
        },
        "id": "p72ZLVTEcx8V",
        "outputId": "f4236867-a1e2-4ff7-bbc8-ea7cf65ba095"
      },
      "execution_count": null,
      "outputs": [
        {
          "output_type": "stream",
          "name": "stdout",
          "text": [
            "Requirement already satisfied: scikit-learn in /usr/local/lib/python3.12/dist-packages (1.6.1)\n",
            "Requirement already satisfied: numpy>=1.19.5 in /usr/local/lib/python3.12/dist-packages (from scikit-learn) (2.0.2)\n",
            "Requirement already satisfied: scipy>=1.6.0 in /usr/local/lib/python3.12/dist-packages (from scikit-learn) (1.16.1)\n",
            "Requirement already satisfied: joblib>=1.2.0 in /usr/local/lib/python3.12/dist-packages (from scikit-learn) (1.5.1)\n",
            "Requirement already satisfied: threadpoolctl>=3.1.0 in /usr/local/lib/python3.12/dist-packages (from scikit-learn) (3.6.0)\n"
          ]
        }
      ]
    },
    {
      "cell_type": "code",
      "source": [
        "!pip install gTTs"
      ],
      "metadata": {
        "colab": {
          "base_uri": "https://localhost:8080/"
        },
        "id": "niYRVYzVdBoX",
        "outputId": "2e8710fe-dd6a-4779-b220-3776ad869cee"
      },
      "execution_count": null,
      "outputs": [
        {
          "output_type": "stream",
          "name": "stdout",
          "text": [
            "Collecting gTTs\n",
            "  Downloading gTTS-2.5.4-py3-none-any.whl.metadata (4.1 kB)\n",
            "Requirement already satisfied: requests<3,>=2.27 in /usr/local/lib/python3.12/dist-packages (from gTTs) (2.32.4)\n",
            "Collecting click<8.2,>=7.1 (from gTTs)\n",
            "  Downloading click-8.1.8-py3-none-any.whl.metadata (2.3 kB)\n",
            "Requirement already satisfied: charset_normalizer<4,>=2 in /usr/local/lib/python3.12/dist-packages (from requests<3,>=2.27->gTTs) (3.4.3)\n",
            "Requirement already satisfied: idna<4,>=2.5 in /usr/local/lib/python3.12/dist-packages (from requests<3,>=2.27->gTTs) (3.10)\n",
            "Requirement already satisfied: urllib3<3,>=1.21.1 in /usr/local/lib/python3.12/dist-packages (from requests<3,>=2.27->gTTs) (2.5.0)\n",
            "Requirement already satisfied: certifi>=2017.4.17 in /usr/local/lib/python3.12/dist-packages (from requests<3,>=2.27->gTTs) (2025.8.3)\n",
            "Downloading gTTS-2.5.4-py3-none-any.whl (29 kB)\n",
            "Downloading click-8.1.8-py3-none-any.whl (98 kB)\n",
            "\u001b[?25l   \u001b[90m━━━━━━━━━━━━━━━━━━━━━━━━━━━━━━━━━━━━━━━━\u001b[0m \u001b[32m0.0/98.2 kB\u001b[0m \u001b[31m?\u001b[0m eta \u001b[36m-:--:--\u001b[0m\r\u001b[2K   \u001b[90m━━━━━━━━━━━━━━━━━━━━━━━━━━━━━━━━━━━━━━━━\u001b[0m \u001b[32m98.2/98.2 kB\u001b[0m \u001b[31m10.0 MB/s\u001b[0m eta \u001b[36m0:00:00\u001b[0m\n",
            "\u001b[?25hInstalling collected packages: click, gTTs\n",
            "  Attempting uninstall: click\n",
            "    Found existing installation: click 8.2.1\n",
            "    Uninstalling click-8.2.1:\n",
            "      Successfully uninstalled click-8.2.1\n",
            "Successfully installed click-8.1.8 gTTs-2.5.4\n"
          ]
        }
      ]
    },
    {
      "cell_type": "code",
      "source": [
        "!pip install fuzzywuzzy"
      ],
      "metadata": {
        "colab": {
          "base_uri": "https://localhost:8080/"
        },
        "id": "0M7PIFIodJpu",
        "outputId": "7a04e99d-d001-4c3c-a6d6-173fc6ad8581"
      },
      "execution_count": 12,
      "outputs": [
        {
          "output_type": "stream",
          "name": "stdout",
          "text": [
            "Collecting fuzzywuzzy\n",
            "  Downloading fuzzywuzzy-0.18.0-py2.py3-none-any.whl.metadata (4.9 kB)\n",
            "Downloading fuzzywuzzy-0.18.0-py2.py3-none-any.whl (18 kB)\n",
            "Installing collected packages: fuzzywuzzy\n",
            "Successfully installed fuzzywuzzy-0.18.0\n"
          ]
        }
      ]
    },
    {
      "cell_type": "code",
      "source": [
        "!pip install gradio"
      ],
      "metadata": {
        "colab": {
          "base_uri": "https://localhost:8080/"
        },
        "id": "rhdGXEgCdR1x",
        "outputId": "5d9107b7-7b89-4069-82d0-0254f9578e15"
      },
      "execution_count": 10,
      "outputs": [
        {
          "output_type": "stream",
          "name": "stdout",
          "text": [
            "Requirement already satisfied: gradio in /usr/local/lib/python3.12/dist-packages (5.43.1)\n",
            "Requirement already satisfied: aiofiles<25.0,>=22.0 in /usr/local/lib/python3.12/dist-packages (from gradio) (24.1.0)\n",
            "Requirement already satisfied: anyio<5.0,>=3.0 in /usr/local/lib/python3.12/dist-packages (from gradio) (4.10.0)\n",
            "Requirement already satisfied: brotli>=1.1.0 in /usr/local/lib/python3.12/dist-packages (from gradio) (1.1.0)\n",
            "Requirement already satisfied: fastapi<1.0,>=0.115.2 in /usr/local/lib/python3.12/dist-packages (from gradio) (0.116.1)\n",
            "Requirement already satisfied: ffmpy in /usr/local/lib/python3.12/dist-packages (from gradio) (0.6.1)\n",
            "Requirement already satisfied: gradio-client==1.12.1 in /usr/local/lib/python3.12/dist-packages (from gradio) (1.12.1)\n",
            "Requirement already satisfied: groovy~=0.1 in /usr/local/lib/python3.12/dist-packages (from gradio) (0.1.2)\n",
            "Requirement already satisfied: httpx<1.0,>=0.24.1 in /usr/local/lib/python3.12/dist-packages (from gradio) (0.28.1)\n",
            "Requirement already satisfied: huggingface-hub<1.0,>=0.33.5 in /usr/local/lib/python3.12/dist-packages (from gradio) (0.34.4)\n",
            "Requirement already satisfied: jinja2<4.0 in /usr/local/lib/python3.12/dist-packages (from gradio) (3.1.6)\n",
            "Requirement already satisfied: markupsafe<4.0,>=2.0 in /usr/local/lib/python3.12/dist-packages (from gradio) (3.0.2)\n",
            "Requirement already satisfied: numpy<3.0,>=1.0 in /usr/local/lib/python3.12/dist-packages (from gradio) (2.0.2)\n",
            "Requirement already satisfied: orjson~=3.0 in /usr/local/lib/python3.12/dist-packages (from gradio) (3.11.2)\n",
            "Requirement already satisfied: packaging in /usr/local/lib/python3.12/dist-packages (from gradio) (25.0)\n",
            "Requirement already satisfied: pandas<3.0,>=1.0 in /usr/local/lib/python3.12/dist-packages (from gradio) (2.2.2)\n",
            "Requirement already satisfied: pillow<12.0,>=8.0 in /usr/local/lib/python3.12/dist-packages (from gradio) (11.3.0)\n",
            "Requirement already satisfied: pydantic<2.12,>=2.0 in /usr/local/lib/python3.12/dist-packages (from gradio) (2.11.7)\n",
            "Requirement already satisfied: pydub in /usr/local/lib/python3.12/dist-packages (from gradio) (0.25.1)\n",
            "Requirement already satisfied: python-multipart>=0.0.18 in /usr/local/lib/python3.12/dist-packages (from gradio) (0.0.20)\n",
            "Requirement already satisfied: pyyaml<7.0,>=5.0 in /usr/local/lib/python3.12/dist-packages (from gradio) (6.0.2)\n",
            "Requirement already satisfied: ruff>=0.9.3 in /usr/local/lib/python3.12/dist-packages (from gradio) (0.12.10)\n",
            "Requirement already satisfied: safehttpx<0.2.0,>=0.1.6 in /usr/local/lib/python3.12/dist-packages (from gradio) (0.1.6)\n",
            "Requirement already satisfied: semantic-version~=2.0 in /usr/local/lib/python3.12/dist-packages (from gradio) (2.10.0)\n",
            "Requirement already satisfied: starlette<1.0,>=0.40.0 in /usr/local/lib/python3.12/dist-packages (from gradio) (0.47.3)\n",
            "Requirement already satisfied: tomlkit<0.14.0,>=0.12.0 in /usr/local/lib/python3.12/dist-packages (from gradio) (0.13.3)\n",
            "Requirement already satisfied: typer<1.0,>=0.12 in /usr/local/lib/python3.12/dist-packages (from gradio) (0.16.1)\n",
            "Requirement already satisfied: typing-extensions~=4.0 in /usr/local/lib/python3.12/dist-packages (from gradio) (4.15.0)\n",
            "Requirement already satisfied: uvicorn>=0.14.0 in /usr/local/lib/python3.12/dist-packages (from gradio) (0.35.0)\n",
            "Requirement already satisfied: fsspec in /usr/local/lib/python3.12/dist-packages (from gradio-client==1.12.1->gradio) (2025.3.0)\n",
            "Requirement already satisfied: websockets<16.0,>=10.0 in /usr/local/lib/python3.12/dist-packages (from gradio-client==1.12.1->gradio) (15.0.1)\n",
            "Requirement already satisfied: idna>=2.8 in /usr/local/lib/python3.12/dist-packages (from anyio<5.0,>=3.0->gradio) (3.10)\n",
            "Requirement already satisfied: sniffio>=1.1 in /usr/local/lib/python3.12/dist-packages (from anyio<5.0,>=3.0->gradio) (1.3.1)\n",
            "Requirement already satisfied: certifi in /usr/local/lib/python3.12/dist-packages (from httpx<1.0,>=0.24.1->gradio) (2025.8.3)\n",
            "Requirement already satisfied: httpcore==1.* in /usr/local/lib/python3.12/dist-packages (from httpx<1.0,>=0.24.1->gradio) (1.0.9)\n",
            "Requirement already satisfied: h11>=0.16 in /usr/local/lib/python3.12/dist-packages (from httpcore==1.*->httpx<1.0,>=0.24.1->gradio) (0.16.0)\n",
            "Requirement already satisfied: filelock in /usr/local/lib/python3.12/dist-packages (from huggingface-hub<1.0,>=0.33.5->gradio) (3.19.1)\n",
            "Requirement already satisfied: requests in /usr/local/lib/python3.12/dist-packages (from huggingface-hub<1.0,>=0.33.5->gradio) (2.32.4)\n",
            "Requirement already satisfied: tqdm>=4.42.1 in /usr/local/lib/python3.12/dist-packages (from huggingface-hub<1.0,>=0.33.5->gradio) (4.67.1)\n",
            "Requirement already satisfied: hf-xet<2.0.0,>=1.1.3 in /usr/local/lib/python3.12/dist-packages (from huggingface-hub<1.0,>=0.33.5->gradio) (1.1.8)\n",
            "Requirement already satisfied: python-dateutil>=2.8.2 in /usr/local/lib/python3.12/dist-packages (from pandas<3.0,>=1.0->gradio) (2.9.0.post0)\n",
            "Requirement already satisfied: pytz>=2020.1 in /usr/local/lib/python3.12/dist-packages (from pandas<3.0,>=1.0->gradio) (2025.2)\n",
            "Requirement already satisfied: tzdata>=2022.7 in /usr/local/lib/python3.12/dist-packages (from pandas<3.0,>=1.0->gradio) (2025.2)\n",
            "Requirement already satisfied: annotated-types>=0.6.0 in /usr/local/lib/python3.12/dist-packages (from pydantic<2.12,>=2.0->gradio) (0.7.0)\n",
            "Requirement already satisfied: pydantic-core==2.33.2 in /usr/local/lib/python3.12/dist-packages (from pydantic<2.12,>=2.0->gradio) (2.33.2)\n",
            "Requirement already satisfied: typing-inspection>=0.4.0 in /usr/local/lib/python3.12/dist-packages (from pydantic<2.12,>=2.0->gradio) (0.4.1)\n",
            "Requirement already satisfied: click>=8.0.0 in /usr/local/lib/python3.12/dist-packages (from typer<1.0,>=0.12->gradio) (8.2.1)\n",
            "Requirement already satisfied: shellingham>=1.3.0 in /usr/local/lib/python3.12/dist-packages (from typer<1.0,>=0.12->gradio) (1.5.4)\n",
            "Requirement already satisfied: rich>=10.11.0 in /usr/local/lib/python3.12/dist-packages (from typer<1.0,>=0.12->gradio) (13.9.4)\n",
            "Requirement already satisfied: six>=1.5 in /usr/local/lib/python3.12/dist-packages (from python-dateutil>=2.8.2->pandas<3.0,>=1.0->gradio) (1.17.0)\n",
            "Requirement already satisfied: markdown-it-py>=2.2.0 in /usr/local/lib/python3.12/dist-packages (from rich>=10.11.0->typer<1.0,>=0.12->gradio) (4.0.0)\n",
            "Requirement already satisfied: pygments<3.0.0,>=2.13.0 in /usr/local/lib/python3.12/dist-packages (from rich>=10.11.0->typer<1.0,>=0.12->gradio) (2.19.2)\n",
            "Requirement already satisfied: charset_normalizer<4,>=2 in /usr/local/lib/python3.12/dist-packages (from requests->huggingface-hub<1.0,>=0.33.5->gradio) (3.4.3)\n",
            "Requirement already satisfied: urllib3<3,>=1.21.1 in /usr/local/lib/python3.12/dist-packages (from requests->huggingface-hub<1.0,>=0.33.5->gradio) (2.5.0)\n",
            "Requirement already satisfied: mdurl~=0.1 in /usr/local/lib/python3.12/dist-packages (from markdown-it-py>=2.2.0->rich>=10.11.0->typer<1.0,>=0.12->gradio) (0.1.2)\n"
          ]
        }
      ]
    },
    {
      "cell_type": "code",
      "source": [
        "import pandas as pd\n",
        "\n",
        "db = pd.read_csv(\"/recipes_ingredients.csv\",on_bad_lines = \"skip\", engine = \"python\")"
      ],
      "metadata": {
        "id": "8OaQmY33dX6r"
      },
      "execution_count": 15,
      "outputs": []
    },
    {
      "cell_type": "code",
      "source": [
        "import pandas as pd\n",
        "from sklearn.feature_extraction.text import TfidfVectorizer\n",
        "from sklearn.metrics.pairwise import cosine_similarity"
      ],
      "metadata": {
        "id": "TNwU_ATiqcln"
      },
      "execution_count": 14,
      "outputs": []
    },
    {
      "cell_type": "code",
      "source": [
        "db[\"text\"] = db[\"Name\"].fillna(\"\") + \" \" + db[\"Ingredients\"].fillna(\"\") + \" \" + db[\"Steps\"].fillna(\"\")"
      ],
      "metadata": {
        "id": "fzvOc-rusR8a"
      },
      "execution_count": 16,
      "outputs": []
    },
    {
      "cell_type": "code",
      "source": [
        "vectorizer = TfidfVectorizer(stop_words=\"english\")\n",
        "tfidf_matrix = vectorizer.fit_transform(db[\"text\"])"
      ],
      "metadata": {
        "id": "BfGpZmKPrxFz"
      },
      "execution_count": 17,
      "outputs": []
    },
    {
      "cell_type": "code",
      "source": [
        "vectorizer = TfidfVectorizer(stop_words=\"english\")\n",
        "tfidf_matrix = vectorizer.fit_transform(db[\"text\"])\n",
        "\n",
        "def search_recipes(query, top_n=3):\n",
        "    query_vec = vectorizer.transform([query])\n",
        "    similarity = cosine_similarity(query_vec, tfidf_matrix).flatten()\n",
        "    indices = similarity.argsort()[::-1][:top_n]\n",
        "\n",
        "    results = []\n",
        "    for i in indices:\n",
        "        results.append({\n",
        "            \"Name\": db.iloc[i][\"Name\"],\n",
        "            \"Description\": db.iloc[i][\"Description\"],\n",
        "            \"Ingredients\": db.iloc[i][\"Ingredients\"],\n",
        "            \"Ingredients_raw\": db.iloc[i][\"Ingredients_raw\"],\n",
        "            \"Steps\": db.iloc[i][\"Steps\"],\n",
        "            \"Servings\": db.iloc[i][\"Servings\"],\n",
        "            \"Serving_size\": db.iloc[i][\"Serving_size\"],\n",
        "            \"Tags\": db.iloc[i][\"Tags\"],\n",
        "            \"score\": similarity[i]\n",
        "        })\n",
        "    return results\n",
        "print(\"Smart Cooking Assistant Ready! (type 'exit' to quit)\")\n",
        "\n",
        "while True:\n",
        "    query = input(\"\\nWhat do you want to cook? \")\n",
        "    if query.lower() == \"exit\":\n",
        "        break\n",
        "\n",
        "    results = search_recipes(query)\n",
        "    if results:\n",
        "        print(\"\\nTop Recipes:\")\n",
        "        for r in results:\n",
        "            print(f\"\\n {r['Name']} (score: {r['score']:.2f})\")\n",
        "            print(\"Description:\",r[\"Description\"][:200],\"...\")\n",
        "            print(\"Ingredients:\", r[\"Ingredients\"])\n",
        "            print(\"Ingredients_raw:\", r[\"Ingredients_raw\"])\n",
        "            print(\"Steps:\", r[\"Steps\"][:200], \"...\")\n",
        "            print(\"Servings\",r[\"Servings\"])\n",
        "            print(\"Serving_size\",r[\"Serving_size\"])\n",
        "            print(\"Tags\", r[\"Tags\"][:200], \"...\")\n",
        "\n",
        "    else:\n",
        "        print(\"Sorry, no recipe found.\")\n"
      ],
      "metadata": {
        "colab": {
          "base_uri": "https://localhost:8080/"
        },
        "id": "9YOUqhe_q53N",
        "outputId": "6fb79ee2-22dc-4f80-c8f0-1785748c2dde"
      },
      "execution_count": 18,
      "outputs": [
        {
          "name": "stdout",
          "output_type": "stream",
          "text": [
            "Smart Cooking Assistant Ready! (type 'exit' to quit)\n",
            "\n",
            "What do you want to cook? cake\n",
            "\n",
            "Top Recipes:\n",
            "\n",
            " Cake Mix Chocolate Mayonnaise Cake (score: 0.82)\n",
            "Description: I like to get creative with boxed cake mixes. It's more convenient and less time consuming than making cakes from scratch. The mayonnaise in this cake makes it really moist. You cannot tell the mayonn ...\n",
            "Ingredients: [\"duncan devil  s food cake mix\", \"mayonnaise\", \"chocolate chips\", \"icing powdered sugar\"]\n",
            "Ingredients_raw: [\"1   box   duncan hines devil\\u0027s food cake mix (or any brand)\",\"2   large    eggs\",\"1 1/3  cups    water\",\"1   cup    mayonnaise\",\"1   cup    chocolate chips\",\"  icing, of choice  or   powdered sugar\"]\n",
            "Steps: [\"Preheat oven to 350.\", \"Grease and flour a bundt cake pan or a 9x13x2 inch cake pan.\", \"Dump the cake mix into a large mixing bowl.\", \"Add eggs, water and mayonnaise.\", \"Mix by hand or with an elect ...\n",
            "Servings 1.0\n",
            "Serving_size 1 (1108 g)\n",
            "Tags [\"60-minutes-or-less\", \"time-to-make\", \"course\", \"preparation\", \"occasion\", \"desserts\", \"easy\", \"beginner-cook\", \"potluck\", \"picnic\", \"cakes\", \"dietary\", \"comfort-food\", \"inexpensive\", \"taste-mood\", \" ...\n",
            "\n",
            " Cinnamon Drop Cake (score: 0.80)\n",
            "Description: This cake is very light. No Frosting & the cinnamon & sugar doesn't over power it like frosting does sometimes ! ...\n",
            "Ingredients: [\"white cake mix\", \"water cake mix\", \"butter cake mix\", \"eggs cake mix\", \"sugar\", \"cinnamon\", \"margarine\"]\n",
            "Ingredients_raw: [\"1 (18   ounce) package   white cake mix\",\"1   cup    water (or as called for by your cake mix)\",\"1/3  cup    butter (or as called for by your cake mix)\",\"3       eggs (or as called for by your cake mix)\",\"1/2  cup    sugar, blended with \",\"1   teaspoon    cinnamon\",\"1/2  cup    margarine\"]\n",
            "Steps: [\"Preheat oven to 350F and grease/flour 13 x 9 cake pan.\", \"Prepare cake mix according to package.\", \"Pour batter into prepared cake pan.\", \"Sprinkle, cinnamon &amp; sugar mixture over the cake batter ...\n",
            "Servings 12.0\n",
            "Serving_size 1 (79 g)\n",
            "Tags [\"60-minutes-or-less\", \"time-to-make\", \"course\", \"preparation\", \"occasion\", \"desserts\", \"oven\", \"easy\", \"kid-friendly\", \"picnic\", \"cakes\", \"dietary\", \"seasonal\", \"comfort-food\", \"taste-mood\", \"to-go\", ...\n",
            "\n",
            " Orange Dream Cake (score: 0.80)\n",
            "Description: I got this recipe from Allrecipes.com It was submitted by  ...\n",
            "Ingredients: [\"orange cake mix\", \"Jell - O\", \"vegetable oil\", \"milk\", \"frosting icing\"]\n",
            "Ingredients_raw: [\"1 (18 1/4  ounce) box   orange cake mix\",\"1 (2 3/4  ounce) box   orange Jell-O\",\"1 (1 1/2  ounce) envelope   Dream Whip\",\"1   tablespoon    vegetable oil\",\"1   cup    milk\",\"4   large    eggs\",\"  frosting or   icing, of choice \"]\n",
            "Steps: [\"Preheat oven to 350F (or 175C) Grease and flour a bundt cake pan and set aside.\", \"Dump cake mix, jello powder and Dream Whip powder in a large mixing bowl.\", \"Stir together until well mixed.\", \"Add ...\n",
            "Servings 1.0\n",
            "Serving_size 1 (1097 g)\n",
            "Tags [\"60-minutes-or-less\", \"time-to-make\", \"course\", \"preparation\", \"occasion\", \"desserts\", \"oven\", \"potluck\", \"picnic\", \"cakes\", \"dietary\", \"comfort-food\", \"inexpensive\", \"taste-mood\", \"savory\", \"to-go\", ...\n",
            "\n",
            "What do you want to cook? tacas\n",
            "\n",
            "Top Recipes:\n",
            "\n",
            " Cherry Streusel Cobbler (score: 0.00)\n",
            "Description: I haven't made this in years, so I'm just guessing on prep time.  I'm putting in the shortest bake time, so you might have to adjust. ...\n",
            "Ingredients: [\"cherry pie filling\", \"condensed milk\", \"melted margarine\", \"cinnamon\", \"nutmeg\", \"light brown sugar\", \"flour\", \"margarine\", \"chopped nuts\", \"oats\", \"butter - flavored cooking spray\"]\n",
            "Ingredients_raw: [\"2 (21   ounce) cans   cherry pie filling\",\"2       eggs\",\"1 (14   ounce) can   sweetened condensed milk (not evaporated)\",\"1/4  cup   melted margarine\",\"1/2  teaspoon    cinnamon\",\"1/4  teaspoon    nutmeg\",\"1/2  cup   firmly packed light brown sugar\",\"1/2  cup    self-rising flour\",\"1/4  cup    margarine\",\"1/2  cup   chopped nuts (chef\\u0027s choice)\",\"1/2  cup    quick-cooking oats\",\"  butter-flavored cooking spray\"]\n",
            "Steps: [\"Preheat oven to 375°F.\", \"Spread cherry pie filling in a 8 x 8-inch square pan that has lightly been sprayed.\", \"In a medium-size bowl, beat eggs.\", \"Add milk, melted margarine, cinnamon, and nutmeg ...\n",
            "Servings 6.0\n",
            "Serving_size 1 (347 g)\n",
            "Tags [\"60-minutes-or-less\", \"time-to-make\", \"course\", \"main-ingredient\", \"cuisine\", \"preparation\", \"north-american\", \"cobblers-and-crisps\", \"desserts\", \"fruit\", \"oven\", \"pitted-fruit\", \"cherries\", \"equipme ...\n",
            "\n",
            " Chicken and Dumplings &ndash; Crock Pot (score: 0.00)\n",
            "Description: Fix it and Forget it Lightly – Slow Cooker recipesServes 6 ...\n",
            "Ingredients: [\"chicken cubed\", \"frozen vegetables\", \"onion\", \"chicken broth\", \"biscuit mix\"]\n",
            "Ingredients_raw: [\"1   lb    chicken, cubed \",\"1   lb    frozen vegetables\",\"1       onion, diced \",\"24   ounces    chicken broth, divided \",\"1 1/2  cups    biscuit mix\"]\n",
            "Steps: [\"Combine chicken, vegetables, onion and chicken broth (reserve ½ cup) in slow cooker.\", \"Cover and cook on high for 2-3 hours.\", \"Mix biscuit mix with reserved broth. Drop by tablespoons into hot chi ...\n",
            "Servings 6.0\n",
            "Serving_size 1 (323 g)\n",
            "Tags [\"course\", \"preparation\", \"5-ingredients-or-less\", \"main-dish\", \"soups-stews\", \"easy\", \"dietary\", \"low-cholesterol\", \"low-calorie\", \"healthy-2\", \"low-in-something\"] ...\n",
            "\n",
            " Cheesy Ground Beef and Rice Casserole (score: 0.00)\n",
            "Description: This is one of those comfort food dishes I created out of necessity because we were snowed in and this is what I had on-hand.  Feel free to substitute whatever you've got or what you think might taste ...\n",
            "Ingredients: [\"ground beef\", \"medium onion chopped\", \"brown rice\", \"water\", \"green beans\", \"can mushrooms\", \"tomato sauce\", \"extra - sharp cheddar cheese grated\", \"fresh ground black pepper\", \"hot sauce Tabasco\", \"garlic powder\"]\n",
            "Ingredients_raw: [\"1 1/2  lbs    ground beef\",\"1   medium    onion, chopped \",\"1   cup    instant brown rice\",\"1   cup    water\",\"1 (14 1/2  ounce) can   cut green beans, drained \",\"1 (4   ounce) can   mushrooms, partly drained* \",\"1 (15   ounce) can   tomato sauce\",\"1 (8   ounce) package   extra-sharp cheddar cheese, grated \",\"1/2  teaspoon    salt\",\"1/2  teaspoon    fresh ground black pepper\",\"1/4-1/2  cup    hot sauce (I use Tabasco, but whatever)\",\"1/2  teaspoon    garlic powder\"]\n",
            "Steps: [\"*What I mean by \"partly drained\" with the mushrooms is to let the water run out but don\\\"t press down with the lid to squeeze the water out.\", \"Brown ground beef and onions together until beef is br ...\n",
            "Servings 6.0\n",
            "Serving_size 1 (394 g)\n",
            "Tags [\"60-minutes-or-less\", \"time-to-make\", \"preparation\"] ...\n",
            "\n",
            "What do you want to cook? tacos\n",
            "\n",
            "Top Recipes:\n",
            "\n",
            " Crisp Chicken Tacos (score: 0.68)\n",
            "Description: From Sunset Magazine.  Their notes regarding the recipe:  No need to use stale store-bought shells to make crispy tacos. Our easy method turns fresh corn tortillas into crunchy pockets filled with a s ...\n",
            "Ingredients: [\"shredded cooked chicken meat\", \"shredded jack cheese\", \"salt\", \"vegetable oil\", \"corn tortillas\", \"chopped fresh cilantro\"]\n",
            "Ingredients_raw: [\"3   cups   packed shredded cooked chicken meat (see Notes)\",\"2   cups   shredded jack cheese\",\"  kosher salt\",\" about 2 cups vegetable oil, divided \",\"16       corn tortillas (5 to 6 in.)\",\"1   cup   coarsely chopped fresh cilantro\",\" wooden toothpick\"]\n",
            "Steps: [\"Preheat oven to 200°. In a bowl, mix chicken with cheese and season to taste with salt.\", \"Pour 3 tablespoons oil into a medium frying pan over high heat. When hot, add tortillas, 1 at a time, heati ...\n",
            "Servings 8.0\n",
            "Serving_size 1 (78 g)\n",
            "Tags [\"60-minutes-or-less\", \"time-to-make\", \"course\", \"main-ingredient\", \"preparation\", \"lunch\", \"main-dish\", \"eggs-dairy\", \"poultry\", \"cheese\", \"chicken\", \"meat\"] ...\n",
            "\n",
            " Lime Mayo for Fish Tacos (score: 0.59)\n",
            "Description: Easy condiment from Blue Apron ...\n",
            "Ingredients: [\"mayonnaise\", \"salt pepper\"]\n",
            "Ingredients_raw: [\"1/2  cup    mayonnaise\",\"1/2      lime\",\"  salt and pepper\"]\n",
            "Steps: [\"Squeeze lime juice into mayo and stir all ingredients together.\", \"Serve on Fish tacos.\"] ...\n",
            "Servings 4.0\n",
            "Serving_size 1 (8 g)\n",
            "Tags [\"15-minutes-or-less\", \"time-to-make\", \"course\", \"preparation\", \"5-ingredients-or-less\", \"sauces\", \"condiments-etc\", \"easy\", \"3-steps-or-less\"] ...\n",
            "\n",
            " Sour Cream Substitute for Tacos (score: 0.56)\n",
            "Description: So I didn't have any sour cream one night for tacos, but I did have cottage cheese. So this was born, not quite like sour cream, but good just the same. ...\n",
            "Ingredients: [\"fat cottage cheese\", \"hot sauce\", \"lime juice\", \"onion minced\", \"garlic powder\"]\n",
            "Ingredients_raw: [\"1/2  cup    fat-free cottage cheese\",\"1/4  teaspoon    hot sauce\",\"1   teaspoon    lime juice\",\"1   teaspoon    water\",\"1   teaspoon    onion (minced)\",\"1   pinch    garlic powder\"]\n",
            "Steps: [\"Mix all ingredients in food processor until smooth.\", \"Serve over tacos or any other Mexican type dish.\", \"Probably would be good over baked potatoes or chili also.\"] ...\n",
            "Servings 8.0\n",
            "Serving_size 1 (10 g)\n",
            "Tags [\"15-minutes-or-less\", \"time-to-make\", \"course\", \"preparation\", \"healthy\", \"condiments-etc\", \"easy\", \"low-fat\", \"dietary\", \"low-sodium\", \"low-cholesterol\", \"low-saturated-fat\", \"low-calorie\", \"low-car ...\n",
            "\n",
            "What do you want to cook? exit\n"
          ]
        }
      ]
    },
    {
      "cell_type": "code",
      "source": [
        "import pandas as pd\n",
        "from fuzzywuzzy import process\n",
        "import gradio as gr\n",
        "\n",
        "db = pd.read_csv(\"/recipes_ingredients.csv\", on_bad_lines=\"skip\", engine=\"python\")\n",
        "\n",
        "\n",
        "def find_recipe(query):\n",
        "\n",
        "    choices = db['Name'].dropna().tolist()\n",
        "    best_match, score = process.extractOne(query, choices)\n",
        "\n",
        "    if score > 60:\n",
        "        result = db[db['Name'] == best_match].iloc[0]\n",
        "        return best_match, result[\"Ingredients\"], result[\"Steps\"],result[\"Description\"],result[\"Ingredients_raw\"],result[\"Servings\"],result[\"Serving_size\"],result[\"Tags\"], score\n",
        "    else:\n",
        "        return None, None, None, None, None, None, None, None, None\n",
        "\n",
        "print(\"RecipeBot: Hi! Ask me about any recipe (type 'exit' to quit)\")\n",
        "\n",
        "while True:\n",
        "    query = input(\"\\nYou: \")\n",
        "    if query.lower() in [\"exit\", \"quit\", \"bye\"]:\n",
        "        print(\"RecipeBot: Goodbye! Happy cooking! 🍲\")\n",
        "        break\n",
        "\n",
        "    name, Ingredients, Steps, Description, Ingredients_raw, Servings, Serving_size, Tags, score = find_recipe(query)\n",
        "\n",
        "    if Ingredients:\n",
        "        print(f\"\\n RecipeBot: I think you meant *{name}* (match score: {score})\")\n",
        "        print(\"\\n Ingredients:\\n\", Ingredients)\n",
        "        print(\"\\n Steps:\\n\", Steps[:400], \"...\")\n",
        "        print(\"Description:\",Description[:200],\"...\")\n",
        "        print(\"Ingredients_raw:\", Ingredients_raw)\n",
        "        print(\"Servings\",Servings)\n",
        "        print(\"Serving_size\",Serving_size)\n",
        "        print(\"Tags\", Tags[:200], \"...\")\n",
        "    else:\n",
        "        print(\" RecipeBot: Sorry, I couldn't find a close match. Try another one!\")\n"
      ],
      "metadata": {
        "colab": {
          "base_uri": "https://localhost:8080/"
        },
        "id": "5ukZTGs3sdW2",
        "outputId": "8cbac30c-9f9f-4eb4-fbdd-2acaa35c4f17"
      },
      "execution_count": 21,
      "outputs": [
        {
          "output_type": "stream",
          "name": "stdout",
          "text": [
            "RecipeBot: Hi! Ask me about any recipe (type 'exit' to quit)\n",
            "\n",
            "You: burger\n",
            "\n",
            " RecipeBot: I think you meant *Faye's Broiled Hamburgers* (match score: 90)\n",
            "\n",
            " Ingredients:\n",
            " [\"ground beef\", \"onion\", \"boiling water\", \"beef bouillon powder oxo sodium content\", \"Worcestershire sauce\", \"steak sauce\", \"ketchup\"]\n",
            "\n",
            " Steps:\n",
            " [\"Dissolve the beef bouillon in the water.  Allow to cool.\", \"Mix all ingredients except the beef, in large bowl.\", \"Add the ground beef and mix lightly but very thoroughly.\", \"Shape into patties 3/4\" thick.\", \"Fry, broil or grill as desired.\"] ...\n",
            "Description: Friends love them - I hope you do too.If freezing, put layer of parchment paper between each patty and wrap tightly.  Cook from frozen.Can be frozen for up to 3 months.The beef bouillon you use will m ...\n",
            "Ingredients_raw: [\"5   lbs    lean ground beef\",\"1   teaspoon    pepper\",\"1   cup    onion, chopped fine \",\"1 1/2  tablespoons    boiling water\",\"5   teaspoons    beef bouillon powder (I prefer oxo due sodium content)\",\"1   tablespoon    Worcestershire sauce\",\"1/3  cup    steak sauce (to taste)\",\"1/3  cup    ketchup (to taste)\"]\n",
            "Servings 24.0\n",
            "Serving_size 1 (128 g)\n",
            "Tags [\"30-minutes-or-less\", \"time-to-make\", \"course\", \"main-ingredient\", \"preparation\", \"for-large-groups\", \"main-dish\", \"beef\", \"easy\", \"dietary\", \"ground-beef\", \"meat\", \"number-of-servings\"] ...\n",
            "\n",
            "You: exit\n",
            "RecipeBot: Goodbye! Happy cooking! 🍲\n"
          ]
        }
      ]
    },
    {
      "cell_type": "code",
      "source": [
        "import gradio as gr\n",
        "import pandas as pd\n",
        "import re\n",
        "\n",
        "def chatbot(message, history):\n",
        "    try:\n",
        "        msg = str(message).lower()\n",
        "\n",
        "        words = re.findall(r\"\\b\\w+\\b\", msg)\n",
        "        ingredients = [w for w in words if len(w) > 3]\n",
        "\n",
        "        if not ingredients:\n",
        "            return \"Please mention at least one ingredient.\"\n",
        "\n",
        "        mask = db[\"Ingredients\"].astype(str).str.lower()\n",
        "        matched = db[mask.apply(lambda x: any(ing in x for ing in ingredients))]\n",
        "\n",
        "        if not matched.empty:\n",
        "            first_recipe = matched.iloc[0]\n",
        "            reply = f\" You can make **{first_recipe['Name']}**!\\n\\n\"\n",
        "            reply += f\" **Ingredients:**\\n{first_recipe['Ingredients']}\\n\\n\"\n",
        "            reply += f\" **Steps:**\\n{first_recipe['Steps']}\"\n",
        "            return reply\n",
        "\n",
        "        else:\n",
        "            return f\"⚠️ Sorry, I couldn't find any recipe with {', '.join(ingredients)}.\"\n",
        "\n",
        "    except Exception as e:\n",
        "        return f\"⚠️ Internal Error: {str(e)}\"\n",
        "\n",
        "demo = gr.ChatInterface(\n",
        "    fn=chatbot,\n",
        "    title=\"Recipe Chatbot\",\n",
        "    description=\"What do you want to cook?\"\n",
        ")\n",
        "\n",
        "demo.launch()\n"
      ],
      "metadata": {
        "id": "i9ZGA9-zs_--",
        "colab": {
          "base_uri": "https://localhost:8080/",
          "height": 680
        },
        "outputId": "b77aa6ac-b06e-422d-fb81-b2d673515387"
      },
      "execution_count": 33,
      "outputs": [
        {
          "output_type": "stream",
          "name": "stderr",
          "text": [
            "/usr/local/lib/python3.12/dist-packages/gradio/chat_interface.py:345: UserWarning: The 'tuples' format for chatbot messages is deprecated and will be removed in a future version of Gradio. Please set type='messages' instead, which uses openai-style 'role' and 'content' keys.\n",
            "  self.chatbot = Chatbot(\n"
          ]
        },
        {
          "output_type": "stream",
          "name": "stdout",
          "text": [
            "It looks like you are running Gradio on a hosted Jupyter notebook, which requires `share=True`. Automatically setting `share=True` (you can turn this off by setting `share=False` in `launch()` explicitly).\n",
            "\n",
            "Colab notebook detected. To show errors in colab notebook, set debug=True in launch()\n",
            "* Running on public URL: https://88f901fb951ec7b224.gradio.live\n",
            "\n",
            "This share link expires in 1 week. For free permanent hosting and GPU upgrades, run `gradio deploy` from the terminal in the working directory to deploy to Hugging Face Spaces (https://huggingface.co/spaces)\n"
          ]
        },
        {
          "output_type": "display_data",
          "data": {
            "text/plain": [
              "<IPython.core.display.HTML object>"
            ],
            "text/html": [
              "<div><iframe src=\"https://88f901fb951ec7b224.gradio.live\" width=\"100%\" height=\"500\" allow=\"autoplay; camera; microphone; clipboard-read; clipboard-write;\" frameborder=\"0\" allowfullscreen></iframe></div>"
            ]
          },
          "metadata": {}
        },
        {
          "output_type": "execute_result",
          "data": {
            "text/plain": []
          },
          "metadata": {},
          "execution_count": 33
        }
      ]
    },
    {
      "cell_type": "code",
      "source": [],
      "metadata": {
        "id": "_5QIV8uQS8DB"
      },
      "execution_count": null,
      "outputs": []
    }
  ]
}